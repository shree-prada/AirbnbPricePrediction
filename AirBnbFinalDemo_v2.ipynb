{
  "nbformat": 4,
  "nbformat_minor": 0,
  "metadata": {
    "colab": {
      "provenance": []
    },
    "kernelspec": {
      "name": "python3",
      "display_name": "Python 3"
    },
    "language_info": {
      "name": "python"
    }
  },
  "cells": [
    {
      "cell_type": "code",
      "source": [
        "from google.colab import drive\n",
        "drive.mount('/content/drive')"
      ],
      "metadata": {
        "colab": {
          "base_uri": "https://localhost:8080/"
        },
        "id": "cZy8P175QN6M",
        "outputId": "6a3a147d-98e4-4b01-9b65-da8faddfd46a"
      },
      "execution_count": 4,
      "outputs": [
        {
          "output_type": "stream",
          "name": "stdout",
          "text": [
            "Drive already mounted at /content/drive; to attempt to forcibly remount, call drive.mount(\"/content/drive\", force_remount=True).\n"
          ]
        }
      ]
    },
    {
      "cell_type": "code",
      "execution_count": 5,
      "metadata": {
        "id": "2Warp9a6P1Up"
      },
      "outputs": [],
      "source": [
        "import os\n",
        "import pandas as pd\n",
        "import numpy as np"
      ]
    },
    {
      "cell_type": "code",
      "source": [
        "# Specify the folder path where the CSV files are located\n",
        "path1 = \"/content/drive/MyDrive/3014 Project/CSVs/Batch1\"\n",
        "# Create an empty list to store the DataFrames\n",
        "dataframes1 = []\n",
        "# Iterate through all files in the folder\n",
        "for file_name in os.listdir(path1):\n",
        "    if file_name.endswith(\".csv\"):\n",
        "        # Read each CSV file into a DataFrame\n",
        "        file_path1 = os.path.join(path1, file_name)\n",
        "        df1= pd.read_csv(file_path1,low_memory=False)\n",
        "        dataframes1.append(df1)\n",
        "# Concatenate all DataFrames into a single DataFrame\n",
        "combine1 = pd.concat(dataframes1, ignore_index=True)\n",
        "print(combine1.shape)"
      ],
      "metadata": {
        "colab": {
          "base_uri": "https://localhost:8080/"
        },
        "id": "e2uIpsX8QYIV",
        "outputId": "e2f05bdd-dd3f-4864-cc5a-d5efbfe431f1"
      },
      "execution_count": 6,
      "outputs": [
        {
          "output_type": "stream",
          "name": "stdout",
          "text": [
            "(197132, 75)\n"
          ]
        }
      ]
    },
    {
      "cell_type": "code",
      "source": [
        "# Specify the folder path where the CSV files are located\n",
        "path2 = \"/content/drive/MyDrive/3014 Project/CSVs/Batch2\"\n",
        "# Create an empty list to store the DataFrames\n",
        "dataframes2 = []\n",
        "# Iterate through all files in the folder\n",
        "for file_name in os.listdir(path2):\n",
        "    if file_name.endswith(\".csv\"):\n",
        "        # Read each CSV file into a DataFrame\n",
        "        file_path2 = os.path.join(path2, file_name)\n",
        "        df2= pd.read_csv(file_path2,low_memory=False)\n",
        "        dataframes2.append(df2)\n",
        "# Concatenate all DataFrames into a single DataFrame\n",
        "combine2 = pd.concat(dataframes2, ignore_index=True)\n",
        "print(combine2.shape)"
      ],
      "metadata": {
        "colab": {
          "base_uri": "https://localhost:8080/"
        },
        "id": "TLo2LphrRWyZ",
        "outputId": "7e73ef78-457d-44ff-f6f5-6520a2baf033"
      },
      "execution_count": 7,
      "outputs": [
        {
          "output_type": "stream",
          "name": "stdout",
          "text": [
            "(370995, 83)\n"
          ]
        }
      ]
    },
    {
      "cell_type": "code",
      "source": [
        "# Concatenate all combined dataframes into a single final combined DataFrame\n",
        "FinalDFList=[]\n",
        "FinalDFList.append(combine1)\n",
        "FinalDFList.append(combine2)\n",
        "FinalCombo = pd.concat(FinalDFList, ignore_index=True)\n",
        "FinalCombo = FinalCombo.sort_values(by='bathrooms', na_position='last', ascending=False)\n",
        "print(FinalCombo.shape)\n",
        "#print(FinalCombo[['host_location']].head(50))"
      ],
      "metadata": {
        "colab": {
          "base_uri": "https://localhost:8080/"
        },
        "id": "xyK9C00rQ9HG",
        "outputId": "431ba737-58fa-425b-ef37-980489c45065"
      },
      "execution_count": 8,
      "outputs": [
        {
          "output_type": "stream",
          "name": "stdout",
          "text": [
            "(568127, 83)\n"
          ]
        }
      ]
    },
    {
      "cell_type": "code",
      "source": [
        "#Making CSV from the final dataset\n",
        "subset_df = FinalCombo.head(10000)\n",
        "print(subset_df.shape)"
      ],
      "metadata": {
        "id": "TIfEDxX5WKbm",
        "colab": {
          "base_uri": "https://localhost:8080/"
        },
        "outputId": "53fe916a-065e-4e3f-a999-043e373c6f56"
      },
      "execution_count": 9,
      "outputs": [
        {
          "output_type": "stream",
          "name": "stdout",
          "text": [
            "(10000, 83)\n"
          ]
        }
      ]
    },
    {
      "cell_type": "code",
      "source": [
        "subset_df.to_csv(\"/content/drive/MyDrive/3014 Project/CSVs/FinalAirBnbDataset.csv\",index=False)\n",
        "cols = [\n",
        "    'id',\n",
        "    'host_id',\n",
        "    'property_type',\n",
        "    'room_type',\n",
        "    'accommodates',\n",
        "    'bedrooms',\n",
        "    'beds',\n",
        "    'price',\n",
        "    'number_of_reviews',\n",
        "    'host_listings_count',\n",
        "    'availability_30',\n",
        "    'minimum_nights',\n",
        "    'bathrooms'\n",
        "]\n",
        "\n",
        "data = pd.read_csv('/content/drive/MyDrive/3014 Project/CSVs/FinalAirBnbDataset.csv', usecols=cols)\n"
      ],
      "metadata": {
        "id": "1epUoC6_xXbF"
      },
      "execution_count": 10,
      "outputs": []
    },
    {
      "cell_type": "code",
      "source": [
        "data.head()"
      ],
      "metadata": {
        "colab": {
          "base_uri": "https://localhost:8080/",
          "height": 206
        },
        "id": "OgUgtVMUIzQ9",
        "outputId": "d3e9fa1b-32fb-418c-a03a-7c7a93f0be08"
      },
      "execution_count": 11,
      "outputs": [
        {
          "output_type": "execute_result",
          "data": {
            "text/plain": [
              "           id    host_id  host_listings_count       property_type  \\\n",
              "0    155548.0     748161                  1.0  Entire rental unit   \n",
              "1  50602388.0   60332116                  1.0  Entire rental unit   \n",
              "2  50608863.0    3854958                  1.0  Entire rental unit   \n",
              "3  50605312.0   44442865                  1.0        Entire condo   \n",
              "4  50335507.0  405777047                  1.0  Entire rental unit   \n",
              "\n",
              "         room_type  accommodates bathrooms  bedrooms  beds    price  \\\n",
              "0  Entire home/apt             3         t       1.0   1.0  $200.00   \n",
              "1  Entire home/apt             4         t       1.0   1.0  $170.00   \n",
              "2  Entire home/apt             4         t       2.0   2.0  $354.00   \n",
              "3  Entire home/apt             3         t       2.0   1.0  $240.00   \n",
              "4  Entire home/apt             4         t       2.0   2.0  $317.00   \n",
              "\n",
              "   minimum_nights  availability_30  number_of_reviews  \n",
              "0               3                0                 21  \n",
              "1               3                1                  2  \n",
              "2               5                0                 14  \n",
              "3               3                0                  4  \n",
              "4               3                0                  8  "
            ],
            "text/html": [
              "\n",
              "\n",
              "  <div id=\"df-4298c33c-828f-4b48-bfa0-936027b6e5d3\">\n",
              "    <div class=\"colab-df-container\">\n",
              "      <div>\n",
              "<style scoped>\n",
              "    .dataframe tbody tr th:only-of-type {\n",
              "        vertical-align: middle;\n",
              "    }\n",
              "\n",
              "    .dataframe tbody tr th {\n",
              "        vertical-align: top;\n",
              "    }\n",
              "\n",
              "    .dataframe thead th {\n",
              "        text-align: right;\n",
              "    }\n",
              "</style>\n",
              "<table border=\"1\" class=\"dataframe\">\n",
              "  <thead>\n",
              "    <tr style=\"text-align: right;\">\n",
              "      <th></th>\n",
              "      <th>id</th>\n",
              "      <th>host_id</th>\n",
              "      <th>host_listings_count</th>\n",
              "      <th>property_type</th>\n",
              "      <th>room_type</th>\n",
              "      <th>accommodates</th>\n",
              "      <th>bathrooms</th>\n",
              "      <th>bedrooms</th>\n",
              "      <th>beds</th>\n",
              "      <th>price</th>\n",
              "      <th>minimum_nights</th>\n",
              "      <th>availability_30</th>\n",
              "      <th>number_of_reviews</th>\n",
              "    </tr>\n",
              "  </thead>\n",
              "  <tbody>\n",
              "    <tr>\n",
              "      <th>0</th>\n",
              "      <td>155548.0</td>\n",
              "      <td>748161</td>\n",
              "      <td>1.0</td>\n",
              "      <td>Entire rental unit</td>\n",
              "      <td>Entire home/apt</td>\n",
              "      <td>3</td>\n",
              "      <td>t</td>\n",
              "      <td>1.0</td>\n",
              "      <td>1.0</td>\n",
              "      <td>$200.00</td>\n",
              "      <td>3</td>\n",
              "      <td>0</td>\n",
              "      <td>21</td>\n",
              "    </tr>\n",
              "    <tr>\n",
              "      <th>1</th>\n",
              "      <td>50602388.0</td>\n",
              "      <td>60332116</td>\n",
              "      <td>1.0</td>\n",
              "      <td>Entire rental unit</td>\n",
              "      <td>Entire home/apt</td>\n",
              "      <td>4</td>\n",
              "      <td>t</td>\n",
              "      <td>1.0</td>\n",
              "      <td>1.0</td>\n",
              "      <td>$170.00</td>\n",
              "      <td>3</td>\n",
              "      <td>1</td>\n",
              "      <td>2</td>\n",
              "    </tr>\n",
              "    <tr>\n",
              "      <th>2</th>\n",
              "      <td>50608863.0</td>\n",
              "      <td>3854958</td>\n",
              "      <td>1.0</td>\n",
              "      <td>Entire rental unit</td>\n",
              "      <td>Entire home/apt</td>\n",
              "      <td>4</td>\n",
              "      <td>t</td>\n",
              "      <td>2.0</td>\n",
              "      <td>2.0</td>\n",
              "      <td>$354.00</td>\n",
              "      <td>5</td>\n",
              "      <td>0</td>\n",
              "      <td>14</td>\n",
              "    </tr>\n",
              "    <tr>\n",
              "      <th>3</th>\n",
              "      <td>50605312.0</td>\n",
              "      <td>44442865</td>\n",
              "      <td>1.0</td>\n",
              "      <td>Entire condo</td>\n",
              "      <td>Entire home/apt</td>\n",
              "      <td>3</td>\n",
              "      <td>t</td>\n",
              "      <td>2.0</td>\n",
              "      <td>1.0</td>\n",
              "      <td>$240.00</td>\n",
              "      <td>3</td>\n",
              "      <td>0</td>\n",
              "      <td>4</td>\n",
              "    </tr>\n",
              "    <tr>\n",
              "      <th>4</th>\n",
              "      <td>50335507.0</td>\n",
              "      <td>405777047</td>\n",
              "      <td>1.0</td>\n",
              "      <td>Entire rental unit</td>\n",
              "      <td>Entire home/apt</td>\n",
              "      <td>4</td>\n",
              "      <td>t</td>\n",
              "      <td>2.0</td>\n",
              "      <td>2.0</td>\n",
              "      <td>$317.00</td>\n",
              "      <td>3</td>\n",
              "      <td>0</td>\n",
              "      <td>8</td>\n",
              "    </tr>\n",
              "  </tbody>\n",
              "</table>\n",
              "</div>\n",
              "      <button class=\"colab-df-convert\" onclick=\"convertToInteractive('df-4298c33c-828f-4b48-bfa0-936027b6e5d3')\"\n",
              "              title=\"Convert this dataframe to an interactive table.\"\n",
              "              style=\"display:none;\">\n",
              "\n",
              "  <svg xmlns=\"http://www.w3.org/2000/svg\" height=\"24px\"viewBox=\"0 0 24 24\"\n",
              "       width=\"24px\">\n",
              "    <path d=\"M0 0h24v24H0V0z\" fill=\"none\"/>\n",
              "    <path d=\"M18.56 5.44l.94 2.06.94-2.06 2.06-.94-2.06-.94-.94-2.06-.94 2.06-2.06.94zm-11 1L8.5 8.5l.94-2.06 2.06-.94-2.06-.94L8.5 2.5l-.94 2.06-2.06.94zm10 10l.94 2.06.94-2.06 2.06-.94-2.06-.94-.94-2.06-.94 2.06-2.06.94z\"/><path d=\"M17.41 7.96l-1.37-1.37c-.4-.4-.92-.59-1.43-.59-.52 0-1.04.2-1.43.59L10.3 9.45l-7.72 7.72c-.78.78-.78 2.05 0 2.83L4 21.41c.39.39.9.59 1.41.59.51 0 1.02-.2 1.41-.59l7.78-7.78 2.81-2.81c.8-.78.8-2.07 0-2.86zM5.41 20L4 18.59l7.72-7.72 1.47 1.35L5.41 20z\"/>\n",
              "  </svg>\n",
              "      </button>\n",
              "\n",
              "\n",
              "\n",
              "    <div id=\"df-370743a9-c14f-45dd-a461-2c999d5a3f0e\">\n",
              "      <button class=\"colab-df-quickchart\" onclick=\"quickchart('df-370743a9-c14f-45dd-a461-2c999d5a3f0e')\"\n",
              "              title=\"Suggest charts.\"\n",
              "              style=\"display:none;\">\n",
              "\n",
              "<svg xmlns=\"http://www.w3.org/2000/svg\" height=\"24px\"viewBox=\"0 0 24 24\"\n",
              "     width=\"24px\">\n",
              "    <g>\n",
              "        <path d=\"M19 3H5c-1.1 0-2 .9-2 2v14c0 1.1.9 2 2 2h14c1.1 0 2-.9 2-2V5c0-1.1-.9-2-2-2zM9 17H7v-7h2v7zm4 0h-2V7h2v10zm4 0h-2v-4h2v4z\"/>\n",
              "    </g>\n",
              "</svg>\n",
              "      </button>\n",
              "    </div>\n",
              "\n",
              "<style>\n",
              "  .colab-df-quickchart {\n",
              "    background-color: #E8F0FE;\n",
              "    border: none;\n",
              "    border-radius: 50%;\n",
              "    cursor: pointer;\n",
              "    display: none;\n",
              "    fill: #1967D2;\n",
              "    height: 32px;\n",
              "    padding: 0 0 0 0;\n",
              "    width: 32px;\n",
              "  }\n",
              "\n",
              "  .colab-df-quickchart:hover {\n",
              "    background-color: #E2EBFA;\n",
              "    box-shadow: 0px 1px 2px rgba(60, 64, 67, 0.3), 0px 1px 3px 1px rgba(60, 64, 67, 0.15);\n",
              "    fill: #174EA6;\n",
              "  }\n",
              "\n",
              "  [theme=dark] .colab-df-quickchart {\n",
              "    background-color: #3B4455;\n",
              "    fill: #D2E3FC;\n",
              "  }\n",
              "\n",
              "  [theme=dark] .colab-df-quickchart:hover {\n",
              "    background-color: #434B5C;\n",
              "    box-shadow: 0px 1px 3px 1px rgba(0, 0, 0, 0.15);\n",
              "    filter: drop-shadow(0px 1px 2px rgba(0, 0, 0, 0.3));\n",
              "    fill: #FFFFFF;\n",
              "  }\n",
              "</style>\n",
              "\n",
              "    <script>\n",
              "      async function quickchart(key) {\n",
              "        const containerElement = document.querySelector('#' + key);\n",
              "        const charts = await google.colab.kernel.invokeFunction(\n",
              "            'suggestCharts', [key], {});\n",
              "      }\n",
              "    </script>\n",
              "\n",
              "      <script>\n",
              "\n",
              "function displayQuickchartButton(domScope) {\n",
              "  let quickchartButtonEl =\n",
              "    domScope.querySelector('#df-370743a9-c14f-45dd-a461-2c999d5a3f0e button.colab-df-quickchart');\n",
              "  quickchartButtonEl.style.display =\n",
              "    google.colab.kernel.accessAllowed ? 'block' : 'none';\n",
              "}\n",
              "\n",
              "        displayQuickchartButton(document);\n",
              "      </script>\n",
              "      <style>\n",
              "    .colab-df-container {\n",
              "      display:flex;\n",
              "      flex-wrap:wrap;\n",
              "      gap: 12px;\n",
              "    }\n",
              "\n",
              "    .colab-df-convert {\n",
              "      background-color: #E8F0FE;\n",
              "      border: none;\n",
              "      border-radius: 50%;\n",
              "      cursor: pointer;\n",
              "      display: none;\n",
              "      fill: #1967D2;\n",
              "      height: 32px;\n",
              "      padding: 0 0 0 0;\n",
              "      width: 32px;\n",
              "    }\n",
              "\n",
              "    .colab-df-convert:hover {\n",
              "      background-color: #E2EBFA;\n",
              "      box-shadow: 0px 1px 2px rgba(60, 64, 67, 0.3), 0px 1px 3px 1px rgba(60, 64, 67, 0.15);\n",
              "      fill: #174EA6;\n",
              "    }\n",
              "\n",
              "    [theme=dark] .colab-df-convert {\n",
              "      background-color: #3B4455;\n",
              "      fill: #D2E3FC;\n",
              "    }\n",
              "\n",
              "    [theme=dark] .colab-df-convert:hover {\n",
              "      background-color: #434B5C;\n",
              "      box-shadow: 0px 1px 3px 1px rgba(0, 0, 0, 0.15);\n",
              "      filter: drop-shadow(0px 1px 2px rgba(0, 0, 0, 0.3));\n",
              "      fill: #FFFFFF;\n",
              "    }\n",
              "  </style>\n",
              "\n",
              "      <script>\n",
              "        const buttonEl =\n",
              "          document.querySelector('#df-4298c33c-828f-4b48-bfa0-936027b6e5d3 button.colab-df-convert');\n",
              "        buttonEl.style.display =\n",
              "          google.colab.kernel.accessAllowed ? 'block' : 'none';\n",
              "\n",
              "        async function convertToInteractive(key) {\n",
              "          const element = document.querySelector('#df-4298c33c-828f-4b48-bfa0-936027b6e5d3');\n",
              "          const dataTable =\n",
              "            await google.colab.kernel.invokeFunction('convertToInteractive',\n",
              "                                                     [key], {});\n",
              "          if (!dataTable) return;\n",
              "\n",
              "          const docLinkHtml = 'Like what you see? Visit the ' +\n",
              "            '<a target=\"_blank\" href=https://colab.research.google.com/notebooks/data_table.ipynb>data table notebook</a>'\n",
              "            + ' to learn more about interactive tables.';\n",
              "          element.innerHTML = '';\n",
              "          dataTable['output_type'] = 'display_data';\n",
              "          await google.colab.output.renderOutput(dataTable, element);\n",
              "          const docLink = document.createElement('div');\n",
              "          docLink.innerHTML = docLinkHtml;\n",
              "          element.appendChild(docLink);\n",
              "        }\n",
              "      </script>\n",
              "    </div>\n",
              "  </div>\n"
            ]
          },
          "metadata": {},
          "execution_count": 11
        }
      ]
    },
    {
      "cell_type": "code",
      "source": [
        "# determine the number of missing entries in each column\n",
        "for col in data.columns:\n",
        "    print(col + ', Number of Missing Values:', len(data[col][data[col].isnull()]))"
      ],
      "metadata": {
        "colab": {
          "base_uri": "https://localhost:8080/"
        },
        "id": "rHdgsv2bKgif",
        "outputId": "2342cfff-df2f-46a4-a52a-d8ef42e24cdf"
      },
      "execution_count": 12,
      "outputs": [
        {
          "output_type": "stream",
          "name": "stdout",
          "text": [
            "id, Number of Missing Values: 0\n",
            "host_id, Number of Missing Values: 0\n",
            "host_listings_count, Number of Missing Values: 0\n",
            "property_type, Number of Missing Values: 0\n",
            "room_type, Number of Missing Values: 0\n",
            "accommodates, Number of Missing Values: 0\n",
            "bathrooms, Number of Missing Values: 1332\n",
            "bedrooms, Number of Missing Values: 2011\n",
            "beds, Number of Missing Values: 93\n",
            "price, Number of Missing Values: 0\n",
            "minimum_nights, Number of Missing Values: 0\n",
            "availability_30, Number of Missing Values: 0\n",
            "number_of_reviews, Number of Missing Values: 0\n"
          ]
        }
      ]
    },
    {
      "cell_type": "code",
      "source": [
        "'''## Fill NaN values in dataframe using mode of every column\n",
        "\n",
        "# Calculate the mode for all columns except 'column3'\n",
        "mode_values = data.drop(columns=['review_scores_rating']).mode().iloc[0]\n",
        "columns_to_fill = data.columns.difference(['review_scores_rating'])\n",
        "data[columns_to_fill] = data[columns_to_fill].fillna(mode_values)\n",
        "print(data)'''\n",
        "mode_values = data.mode().iloc[0]\n",
        "columns_to_fill = data.columns\n",
        "data[columns_to_fill] = data[columns_to_fill].fillna(mode_values)"
      ],
      "metadata": {
        "id": "WSHSEj-3K1sy"
      },
      "execution_count": 13,
      "outputs": []
    },
    {
      "cell_type": "code",
      "source": [
        "for col in data.columns:\n",
        "    print(col + ', Number of Missing Values:', len(data[col][data[col].isnull()]))"
      ],
      "metadata": {
        "id": "jzuPPThaFNSa",
        "outputId": "752d28b9-aa58-4aa6-88e4-c22c317d50b3",
        "colab": {
          "base_uri": "https://localhost:8080/"
        }
      },
      "execution_count": 14,
      "outputs": [
        {
          "output_type": "stream",
          "name": "stdout",
          "text": [
            "id, Number of Missing Values: 0\n",
            "host_id, Number of Missing Values: 0\n",
            "host_listings_count, Number of Missing Values: 0\n",
            "property_type, Number of Missing Values: 0\n",
            "room_type, Number of Missing Values: 0\n",
            "accommodates, Number of Missing Values: 0\n",
            "bathrooms, Number of Missing Values: 0\n",
            "bedrooms, Number of Missing Values: 0\n",
            "beds, Number of Missing Values: 0\n",
            "price, Number of Missing Values: 0\n",
            "minimum_nights, Number of Missing Values: 0\n",
            "availability_30, Number of Missing Values: 0\n",
            "number_of_reviews, Number of Missing Values: 0\n"
          ]
        }
      ]
    },
    {
      "cell_type": "code",
      "source": [
        "# convert formatting for price if needed\n",
        "print(data.dtypes)\n",
        "print(data[['price']].head(10))\n",
        "if data['price'].dtypes!=np.float64:\n",
        "  data['price'] = (data['price'].str.replace(r'[^-+\\d.]', '').astype(float))"
      ],
      "metadata": {
        "colab": {
          "base_uri": "https://localhost:8080/"
        },
        "id": "pxjAZm0HLd2e",
        "outputId": "6bec00fa-8f87-4e80-a2a7-27cf79023640"
      },
      "execution_count": 15,
      "outputs": [
        {
          "output_type": "stream",
          "name": "stdout",
          "text": [
            "id                     float64\n",
            "host_id                  int64\n",
            "host_listings_count    float64\n",
            "property_type           object\n",
            "room_type               object\n",
            "accommodates             int64\n",
            "bathrooms               object\n",
            "bedrooms               float64\n",
            "beds                   float64\n",
            "price                   object\n",
            "minimum_nights           int64\n",
            "availability_30          int64\n",
            "number_of_reviews        int64\n",
            "dtype: object\n",
            "     price\n",
            "0  $200.00\n",
            "1  $170.00\n",
            "2  $354.00\n",
            "3  $240.00\n",
            "4  $317.00\n",
            "5  $174.00\n",
            "6  $850.00\n",
            "7  $201.00\n",
            "8  $170.00\n",
            "9  $350.00\n"
          ]
        },
        {
          "output_type": "stream",
          "name": "stderr",
          "text": [
            "<ipython-input-15-8661280fa2a8>:5: FutureWarning: The default value of regex will change from True to False in a future version.\n",
            "  data['price'] = (data['price'].str.replace(r'[^-+\\d.]', '').astype(float))\n"
          ]
        }
      ]
    },
    {
      "cell_type": "code",
      "source": [
        "# drop any inconsistent values\n",
        "print('Number of Accommodates 0:', len(data[data['accommodates'] == 0]))\n",
        "print('Number of Bedrooms 0:', len(data[data['bedrooms'] == 0]))\n",
        "print('Number of Beds 0:', len(data[data['beds'] == 0]))\n",
        "print('Number of Listings with Price $0.00:', len(data[data['price'] == 0.00]))\n",
        "\n",
        "data = data[data['accommodates'] != 0]\n",
        "data = data[data['bedrooms'] != 0]\n",
        "data = data[data['beds'] != 0]\n",
        "data = data[data['price'] != 0.00]\n",
        "\n",
        "print(\"\\nAfter dropping inconsistent values\")\n",
        "print('Number of Accommodates 0:', len(data[data['accommodates'] == 0]))\n",
        "print('Number of Bedrooms 0:', len(data[data['bedrooms'] == 0]))\n",
        "print('Number of Beds 0:', len(data[data['beds'] == 0]))\n",
        "print('Number of Listings with Price $0.00:', len(data[data['price'] == 0.00]))\n"
      ],
      "metadata": {
        "colab": {
          "base_uri": "https://localhost:8080/"
        },
        "id": "yCnDAQZpLhaa",
        "outputId": "4ff8ea80-a4c3-44a6-a7ec-1403511f7623"
      },
      "execution_count": 16,
      "outputs": [
        {
          "output_type": "stream",
          "name": "stdout",
          "text": [
            "Number of Accommodates 0: 0\n",
            "Number of Bedrooms 0: 0\n",
            "Number of Beds 0: 0\n",
            "Number of Listings with Price $0.00: 1\n",
            "\n",
            "After dropping inconsistent values\n",
            "Number of Accommodates 0: 0\n",
            "Number of Bedrooms 0: 0\n",
            "Number of Beds 0: 0\n",
            "Number of Listings with Price $0.00: 0\n"
          ]
        }
      ]
    },
    {
      "cell_type": "code",
      "source": [
        "data.head()"
      ],
      "metadata": {
        "colab": {
          "base_uri": "https://localhost:8080/",
          "height": 206
        },
        "id": "J-mQ7VSsL2Am",
        "outputId": "05c800cc-e26e-49b6-a50e-d60f83875a22"
      },
      "execution_count": 17,
      "outputs": [
        {
          "output_type": "execute_result",
          "data": {
            "text/plain": [
              "           id    host_id  host_listings_count       property_type  \\\n",
              "0    155548.0     748161                  1.0  Entire rental unit   \n",
              "1  50602388.0   60332116                  1.0  Entire rental unit   \n",
              "2  50608863.0    3854958                  1.0  Entire rental unit   \n",
              "3  50605312.0   44442865                  1.0        Entire condo   \n",
              "4  50335507.0  405777047                  1.0  Entire rental unit   \n",
              "\n",
              "         room_type  accommodates bathrooms  bedrooms  beds  price  \\\n",
              "0  Entire home/apt             3         t       1.0   1.0  200.0   \n",
              "1  Entire home/apt             4         t       1.0   1.0  170.0   \n",
              "2  Entire home/apt             4         t       2.0   2.0  354.0   \n",
              "3  Entire home/apt             3         t       2.0   1.0  240.0   \n",
              "4  Entire home/apt             4         t       2.0   2.0  317.0   \n",
              "\n",
              "   minimum_nights  availability_30  number_of_reviews  \n",
              "0               3                0                 21  \n",
              "1               3                1                  2  \n",
              "2               5                0                 14  \n",
              "3               3                0                  4  \n",
              "4               3                0                  8  "
            ],
            "text/html": [
              "\n",
              "\n",
              "  <div id=\"df-632cfe6f-1116-4c74-a416-7f70d7fae402\">\n",
              "    <div class=\"colab-df-container\">\n",
              "      <div>\n",
              "<style scoped>\n",
              "    .dataframe tbody tr th:only-of-type {\n",
              "        vertical-align: middle;\n",
              "    }\n",
              "\n",
              "    .dataframe tbody tr th {\n",
              "        vertical-align: top;\n",
              "    }\n",
              "\n",
              "    .dataframe thead th {\n",
              "        text-align: right;\n",
              "    }\n",
              "</style>\n",
              "<table border=\"1\" class=\"dataframe\">\n",
              "  <thead>\n",
              "    <tr style=\"text-align: right;\">\n",
              "      <th></th>\n",
              "      <th>id</th>\n",
              "      <th>host_id</th>\n",
              "      <th>host_listings_count</th>\n",
              "      <th>property_type</th>\n",
              "      <th>room_type</th>\n",
              "      <th>accommodates</th>\n",
              "      <th>bathrooms</th>\n",
              "      <th>bedrooms</th>\n",
              "      <th>beds</th>\n",
              "      <th>price</th>\n",
              "      <th>minimum_nights</th>\n",
              "      <th>availability_30</th>\n",
              "      <th>number_of_reviews</th>\n",
              "    </tr>\n",
              "  </thead>\n",
              "  <tbody>\n",
              "    <tr>\n",
              "      <th>0</th>\n",
              "      <td>155548.0</td>\n",
              "      <td>748161</td>\n",
              "      <td>1.0</td>\n",
              "      <td>Entire rental unit</td>\n",
              "      <td>Entire home/apt</td>\n",
              "      <td>3</td>\n",
              "      <td>t</td>\n",
              "      <td>1.0</td>\n",
              "      <td>1.0</td>\n",
              "      <td>200.0</td>\n",
              "      <td>3</td>\n",
              "      <td>0</td>\n",
              "      <td>21</td>\n",
              "    </tr>\n",
              "    <tr>\n",
              "      <th>1</th>\n",
              "      <td>50602388.0</td>\n",
              "      <td>60332116</td>\n",
              "      <td>1.0</td>\n",
              "      <td>Entire rental unit</td>\n",
              "      <td>Entire home/apt</td>\n",
              "      <td>4</td>\n",
              "      <td>t</td>\n",
              "      <td>1.0</td>\n",
              "      <td>1.0</td>\n",
              "      <td>170.0</td>\n",
              "      <td>3</td>\n",
              "      <td>1</td>\n",
              "      <td>2</td>\n",
              "    </tr>\n",
              "    <tr>\n",
              "      <th>2</th>\n",
              "      <td>50608863.0</td>\n",
              "      <td>3854958</td>\n",
              "      <td>1.0</td>\n",
              "      <td>Entire rental unit</td>\n",
              "      <td>Entire home/apt</td>\n",
              "      <td>4</td>\n",
              "      <td>t</td>\n",
              "      <td>2.0</td>\n",
              "      <td>2.0</td>\n",
              "      <td>354.0</td>\n",
              "      <td>5</td>\n",
              "      <td>0</td>\n",
              "      <td>14</td>\n",
              "    </tr>\n",
              "    <tr>\n",
              "      <th>3</th>\n",
              "      <td>50605312.0</td>\n",
              "      <td>44442865</td>\n",
              "      <td>1.0</td>\n",
              "      <td>Entire condo</td>\n",
              "      <td>Entire home/apt</td>\n",
              "      <td>3</td>\n",
              "      <td>t</td>\n",
              "      <td>2.0</td>\n",
              "      <td>1.0</td>\n",
              "      <td>240.0</td>\n",
              "      <td>3</td>\n",
              "      <td>0</td>\n",
              "      <td>4</td>\n",
              "    </tr>\n",
              "    <tr>\n",
              "      <th>4</th>\n",
              "      <td>50335507.0</td>\n",
              "      <td>405777047</td>\n",
              "      <td>1.0</td>\n",
              "      <td>Entire rental unit</td>\n",
              "      <td>Entire home/apt</td>\n",
              "      <td>4</td>\n",
              "      <td>t</td>\n",
              "      <td>2.0</td>\n",
              "      <td>2.0</td>\n",
              "      <td>317.0</td>\n",
              "      <td>3</td>\n",
              "      <td>0</td>\n",
              "      <td>8</td>\n",
              "    </tr>\n",
              "  </tbody>\n",
              "</table>\n",
              "</div>\n",
              "      <button class=\"colab-df-convert\" onclick=\"convertToInteractive('df-632cfe6f-1116-4c74-a416-7f70d7fae402')\"\n",
              "              title=\"Convert this dataframe to an interactive table.\"\n",
              "              style=\"display:none;\">\n",
              "\n",
              "  <svg xmlns=\"http://www.w3.org/2000/svg\" height=\"24px\"viewBox=\"0 0 24 24\"\n",
              "       width=\"24px\">\n",
              "    <path d=\"M0 0h24v24H0V0z\" fill=\"none\"/>\n",
              "    <path d=\"M18.56 5.44l.94 2.06.94-2.06 2.06-.94-2.06-.94-.94-2.06-.94 2.06-2.06.94zm-11 1L8.5 8.5l.94-2.06 2.06-.94-2.06-.94L8.5 2.5l-.94 2.06-2.06.94zm10 10l.94 2.06.94-2.06 2.06-.94-2.06-.94-.94-2.06-.94 2.06-2.06.94z\"/><path d=\"M17.41 7.96l-1.37-1.37c-.4-.4-.92-.59-1.43-.59-.52 0-1.04.2-1.43.59L10.3 9.45l-7.72 7.72c-.78.78-.78 2.05 0 2.83L4 21.41c.39.39.9.59 1.41.59.51 0 1.02-.2 1.41-.59l7.78-7.78 2.81-2.81c.8-.78.8-2.07 0-2.86zM5.41 20L4 18.59l7.72-7.72 1.47 1.35L5.41 20z\"/>\n",
              "  </svg>\n",
              "      </button>\n",
              "\n",
              "\n",
              "\n",
              "    <div id=\"df-0199d498-73f3-4fe1-adb4-0658496efd0b\">\n",
              "      <button class=\"colab-df-quickchart\" onclick=\"quickchart('df-0199d498-73f3-4fe1-adb4-0658496efd0b')\"\n",
              "              title=\"Suggest charts.\"\n",
              "              style=\"display:none;\">\n",
              "\n",
              "<svg xmlns=\"http://www.w3.org/2000/svg\" height=\"24px\"viewBox=\"0 0 24 24\"\n",
              "     width=\"24px\">\n",
              "    <g>\n",
              "        <path d=\"M19 3H5c-1.1 0-2 .9-2 2v14c0 1.1.9 2 2 2h14c1.1 0 2-.9 2-2V5c0-1.1-.9-2-2-2zM9 17H7v-7h2v7zm4 0h-2V7h2v10zm4 0h-2v-4h2v4z\"/>\n",
              "    </g>\n",
              "</svg>\n",
              "      </button>\n",
              "    </div>\n",
              "\n",
              "<style>\n",
              "  .colab-df-quickchart {\n",
              "    background-color: #E8F0FE;\n",
              "    border: none;\n",
              "    border-radius: 50%;\n",
              "    cursor: pointer;\n",
              "    display: none;\n",
              "    fill: #1967D2;\n",
              "    height: 32px;\n",
              "    padding: 0 0 0 0;\n",
              "    width: 32px;\n",
              "  }\n",
              "\n",
              "  .colab-df-quickchart:hover {\n",
              "    background-color: #E2EBFA;\n",
              "    box-shadow: 0px 1px 2px rgba(60, 64, 67, 0.3), 0px 1px 3px 1px rgba(60, 64, 67, 0.15);\n",
              "    fill: #174EA6;\n",
              "  }\n",
              "\n",
              "  [theme=dark] .colab-df-quickchart {\n",
              "    background-color: #3B4455;\n",
              "    fill: #D2E3FC;\n",
              "  }\n",
              "\n",
              "  [theme=dark] .colab-df-quickchart:hover {\n",
              "    background-color: #434B5C;\n",
              "    box-shadow: 0px 1px 3px 1px rgba(0, 0, 0, 0.15);\n",
              "    filter: drop-shadow(0px 1px 2px rgba(0, 0, 0, 0.3));\n",
              "    fill: #FFFFFF;\n",
              "  }\n",
              "</style>\n",
              "\n",
              "    <script>\n",
              "      async function quickchart(key) {\n",
              "        const containerElement = document.querySelector('#' + key);\n",
              "        const charts = await google.colab.kernel.invokeFunction(\n",
              "            'suggestCharts', [key], {});\n",
              "      }\n",
              "    </script>\n",
              "\n",
              "      <script>\n",
              "\n",
              "function displayQuickchartButton(domScope) {\n",
              "  let quickchartButtonEl =\n",
              "    domScope.querySelector('#df-0199d498-73f3-4fe1-adb4-0658496efd0b button.colab-df-quickchart');\n",
              "  quickchartButtonEl.style.display =\n",
              "    google.colab.kernel.accessAllowed ? 'block' : 'none';\n",
              "}\n",
              "\n",
              "        displayQuickchartButton(document);\n",
              "      </script>\n",
              "      <style>\n",
              "    .colab-df-container {\n",
              "      display:flex;\n",
              "      flex-wrap:wrap;\n",
              "      gap: 12px;\n",
              "    }\n",
              "\n",
              "    .colab-df-convert {\n",
              "      background-color: #E8F0FE;\n",
              "      border: none;\n",
              "      border-radius: 50%;\n",
              "      cursor: pointer;\n",
              "      display: none;\n",
              "      fill: #1967D2;\n",
              "      height: 32px;\n",
              "      padding: 0 0 0 0;\n",
              "      width: 32px;\n",
              "    }\n",
              "\n",
              "    .colab-df-convert:hover {\n",
              "      background-color: #E2EBFA;\n",
              "      box-shadow: 0px 1px 2px rgba(60, 64, 67, 0.3), 0px 1px 3px 1px rgba(60, 64, 67, 0.15);\n",
              "      fill: #174EA6;\n",
              "    }\n",
              "\n",
              "    [theme=dark] .colab-df-convert {\n",
              "      background-color: #3B4455;\n",
              "      fill: #D2E3FC;\n",
              "    }\n",
              "\n",
              "    [theme=dark] .colab-df-convert:hover {\n",
              "      background-color: #434B5C;\n",
              "      box-shadow: 0px 1px 3px 1px rgba(0, 0, 0, 0.15);\n",
              "      filter: drop-shadow(0px 1px 2px rgba(0, 0, 0, 0.3));\n",
              "      fill: #FFFFFF;\n",
              "    }\n",
              "  </style>\n",
              "\n",
              "      <script>\n",
              "        const buttonEl =\n",
              "          document.querySelector('#df-632cfe6f-1116-4c74-a416-7f70d7fae402 button.colab-df-convert');\n",
              "        buttonEl.style.display =\n",
              "          google.colab.kernel.accessAllowed ? 'block' : 'none';\n",
              "\n",
              "        async function convertToInteractive(key) {\n",
              "          const element = document.querySelector('#df-632cfe6f-1116-4c74-a416-7f70d7fae402');\n",
              "          const dataTable =\n",
              "            await google.colab.kernel.invokeFunction('convertToInteractive',\n",
              "                                                     [key], {});\n",
              "          if (!dataTable) return;\n",
              "\n",
              "          const docLinkHtml = 'Like what you see? Visit the ' +\n",
              "            '<a target=\"_blank\" href=https://colab.research.google.com/notebooks/data_table.ipynb>data table notebook</a>'\n",
              "            + ' to learn more about interactive tables.';\n",
              "          element.innerHTML = '';\n",
              "          dataTable['output_type'] = 'display_data';\n",
              "          await google.colab.output.renderOutput(dataTable, element);\n",
              "          const docLink = document.createElement('div');\n",
              "          docLink.innerHTML = docLinkHtml;\n",
              "          element.appendChild(docLink);\n",
              "        }\n",
              "      </script>\n",
              "    </div>\n",
              "  </div>\n"
            ]
          },
          "metadata": {},
          "execution_count": 17
        }
      ]
    },
    {
      "cell_type": "code",
      "source": [
        "# explore distribution of accommodates\n",
        "value_counts = data['accommodates'].value_counts()"
      ],
      "metadata": {
        "id": "V4L9k7CL9cKg"
      },
      "execution_count": 18,
      "outputs": []
    },
    {
      "cell_type": "code",
      "source": [
        "# visualize distribution of accommodates\n",
        "import matplotlib.pyplot as plt\n",
        "plt.bar(value_counts.index, value_counts.values)\n",
        "plt.xlabel('Number of Accommodations')\n",
        "plt.ylabel('Frequency')\n",
        "plt.title('Bar of Accommodations')\n",
        "plt.show()\n"
      ],
      "metadata": {
        "colab": {
          "base_uri": "https://localhost:8080/",
          "height": 472
        },
        "id": "kcUxoCl49nLa",
        "outputId": "3c7559e2-db83-478b-e719-4392cb3d5222"
      },
      "execution_count": 19,
      "outputs": [
        {
          "output_type": "display_data",
          "data": {
            "text/plain": [
              "<Figure size 640x480 with 1 Axes>"
            ],
            "image/png": "[encoded data removed]"
          },
          "metadata": {}
        }
      ]
    },
    {
      "cell_type": "markdown",
      "source": [
        "**As we can see that most of the accomodates are of 1-4 people so now we will go for bed plotting**\n",
        "\n"
      ],
      "metadata": {
        "id": "6Jhn_5zy-V_X"
      }
    },
    {
      "cell_type": "code",
      "source": [
        "# explore distribution of beds\n",
        "value_counts1 = data['beds'].value_counts()"
      ],
      "metadata": {
        "id": "ddNEyPHf-zKd"
      },
      "execution_count": 20,
      "outputs": []
    },
    {
      "cell_type": "code",
      "source": [
        "# visualize distribution of beds\n",
        "import matplotlib.pyplot as plt\n",
        "plt.bar(value_counts1.index, value_counts1.values)\n",
        "plt.xlabel('Bed Count')\n",
        "plt.ylabel('Frequency')\n",
        "plt.title('Bar of Beds')\n",
        "plt.show()"
      ],
      "metadata": {
        "colab": {
          "base_uri": "https://localhost:8080/",
          "height": 472
        },
        "id": "8923wCCO-6Dl",
        "outputId": "79a5575e-0bac-43c8-b863-1be2bcbb7348"
      },
      "execution_count": 21,
      "outputs": [
        {
          "output_type": "display_data",
          "data": {
            "text/plain": [
              "<Figure size 640x480 with 1 Axes>"
            ],
            "image/png": "[encoded data removed]"
          },
          "metadata": {}
        }
      ]
    },
    {
      "cell_type": "markdown",
      "source": [
        "**Here we can see that mostly single bed rooms are getting purchased**"
      ],
      "metadata": {
        "id": "kfQ8dTSYCIBv"
      }
    },
    {
      "cell_type": "code",
      "source": [
        "#getting numerical and categorical column names in different lists\n",
        "column_names = data.columns\n",
        "numerical_columns = []\n",
        "categorical_columns = []\n",
        "for column in column_names:\n",
        "    if np.issubdtype(data[column].dtype, np.number):  # Check if column is numerical\n",
        "        numerical_columns.append(column)\n",
        "    else:\n",
        "        categorical_columns.append(column)\n",
        "print(\"\\nNumerical columns:\", numerical_columns)\n",
        "print(\"\\nCategorical columns:\", categorical_columns)"
      ],
      "metadata": {
        "colab": {
          "base_uri": "https://localhost:8080/"
        },
        "id": "SAK7o5egZojQ",
        "outputId": "353d1dc3-94ba-43a0-d54d-e798aaee893b"
      },
      "execution_count": 22,
      "outputs": [
        {
          "output_type": "stream",
          "name": "stdout",
          "text": [
            "\n",
            "Numerical columns: ['id', 'host_id', 'host_listings_count', 'accommodates', 'bedrooms', 'beds', 'price', 'minimum_nights', 'availability_30', 'number_of_reviews']\n",
            "\n",
            "Categorical columns: ['property_type', 'room_type', 'bathrooms']\n"
          ]
        }
      ]
    },
    {
      "cell_type": "code",
      "source": [
        "#OH Encoding\n",
        "import pandas as pd\n",
        "df_encoded = pd.get_dummies(data, columns=categorical_columns, prefix='encoded')\n",
        "print(df_encoded)"
      ],
      "metadata": {
        "colab": {
          "base_uri": "https://localhost:8080/"
        },
        "id": "REent7x9ZxPg",
        "outputId": "db78ad50-37ed-4401-c73d-5f2a97561569"
      },
      "execution_count": 23,
      "outputs": [
        {
          "output_type": "stream",
          "name": "stdout",
          "text": [
            "              id    host_id  host_listings_count  accommodates  bedrooms  \\\n",
            "0       155548.0     748161                  1.0             3       1.0   \n",
            "1     50602388.0   60332116                  1.0             4       1.0   \n",
            "2     50608863.0    3854958                  1.0             4       2.0   \n",
            "3     50605312.0   44442865                  1.0             3       2.0   \n",
            "4     50335507.0  405777047                  1.0             4       2.0   \n",
            "...          ...        ...                  ...           ...       ...   \n",
            "9995   3675469.0   17688638                  2.0             2       1.0   \n",
            "9996   3756811.0     582060                 36.0             4       2.0   \n",
            "9997   4004925.0   20765287                  2.0             5       2.0   \n",
            "9998   3757269.0     582060                 36.0             5       3.0   \n",
            "9999   4009675.0   20790978                 19.0            10       3.0   \n",
            "\n",
            "      beds  price  minimum_nights  availability_30  number_of_reviews  ...  \\\n",
            "0      1.0  200.0               3                0                 21  ...   \n",
            "1      1.0  170.0               3                1                  2  ...   \n",
            "2      2.0  354.0               5                0                 14  ...   \n",
            "3      1.0  240.0               3                0                  4  ...   \n",
            "4      2.0  317.0               3                0                  8  ...   \n",
            "...    ...    ...             ...              ...                ...  ...   \n",
            "9995   1.0   41.0               3                0                148  ...   \n",
            "9996   3.0  156.0               3                0                 43  ...   \n",
            "9997   3.0  206.0               3                1                322  ...   \n",
            "9998   4.0  216.0               2                1                214  ...   \n",
            "9999   6.0  417.0               3                9                 69  ...   \n",
            "\n",
            "      encoded_Tent  encoded_Tiny home  encoded_Tower  encoded_Yurt  \\\n",
            "0                0                  0              0             0   \n",
            "1                0                  0              0             0   \n",
            "2                0                  0              0             0   \n",
            "3                0                  0              0             0   \n",
            "4                0                  0              0             0   \n",
            "...            ...                ...            ...           ...   \n",
            "9995             0                  0              0             0   \n",
            "9996             0                  0              0             0   \n",
            "9997             0                  0              0             0   \n",
            "9998             0                  0              0             0   \n",
            "9999             0                  0              0             0   \n",
            "\n",
            "      encoded_Entire home/apt  encoded_Hotel room  encoded_Private room  \\\n",
            "0                           1                   0                     0   \n",
            "1                           1                   0                     0   \n",
            "2                           1                   0                     0   \n",
            "3                           1                   0                     0   \n",
            "4                           1                   0                     0   \n",
            "...                       ...                 ...                   ...   \n",
            "9995                        0                   0                     1   \n",
            "9996                        1                   0                     0   \n",
            "9997                        1                   0                     0   \n",
            "9998                        1                   0                     0   \n",
            "9999                        1                   0                     0   \n",
            "\n",
            "      encoded_Shared room  encoded_f  encoded_t  \n",
            "0                       0          0          1  \n",
            "1                       0          0          1  \n",
            "2                       0          0          1  \n",
            "3                       0          0          1  \n",
            "4                       0          0          1  \n",
            "...                   ...        ...        ...  \n",
            "9995                    0          0          1  \n",
            "9996                    0          0          1  \n",
            "9997                    0          0          1  \n",
            "9998                    0          0          1  \n",
            "9999                    0          0          1  \n",
            "\n",
            "[9999 rows x 77 columns]\n"
          ]
        }
      ]
    },
    {
      "cell_type": "code",
      "source": [
        "#Handling the Outliers using IQR\n",
        "# Calculate the IQR for each column\n",
        "Q1 = df_encoded.quantile(0.25)\n",
        "Q3 = df_encoded.quantile(0.75)\n",
        "IQR = Q3 - Q1\n",
        "\n",
        "# Define the threshold for outliers\n",
        "threshold = 1.5\n",
        "\n",
        "# Identify rows with outliers\n",
        "outliers = (df_encoded < (Q1 - threshold * IQR)) | (df_encoded > (Q3 + threshold * IQR))\n",
        "\n",
        "# Remove rows with outliers\n",
        "df_encoded = df_encoded[~outliers.any(axis=1)]"
      ],
      "metadata": {
        "id": "yjn-BfR9bJXz"
      },
      "execution_count": 29,
      "outputs": []
    },
    {
      "cell_type": "code",
      "source": [
        "#seperating Features and target variables\n",
        "from sklearn.model_selection import train_test_split\n",
        "from sklearn.metrics import mean_squared_error, r2_score\n",
        "from sklearn.preprocessing import StandardScaler\n",
        "from sklearn.linear_model import Ridge\n",
        "X = df_encoded.loc[:, df_encoded.columns != 'price']\n",
        "Y = df_encoded['price']\n",
        "#splitting in train and test\n",
        "X_train, X_test, y_train, y_test = train_test_split(X, Y, test_size=0.1, random_state=42)\n",
        "# Print the shapes of the train and test sets\n",
        "print(\"\\nTrain data shape:\", X_train.shape, y_train.shape)\n",
        "print(\"\\nTest data shape:\", X_test.shape, y_test.shape)"
      ],
      "metadata": {
        "colab": {
          "base_uri": "https://localhost:8080/"
        },
        "id": "6v9Q348ibPTI",
        "outputId": "e2516ba8-26d7-4cb8-e46d-8cf022672f50"
      },
      "execution_count": 32,
      "outputs": [
        {
          "output_type": "stream",
          "name": "stdout",
          "text": [
            "\n",
            "Train data shape: (1936, 76) (1936,)\n",
            "\n",
            "Test data shape: (216, 76) (216,)\n"
          ]
        }
      ]
    },
    {
      "cell_type": "code",
      "source": [
        "# Initialize and fit the preprocessing scaler on the training data\n",
        "scaler = StandardScaler()\n",
        "X_train_scaled = scaler.fit_transform(X_train)\n",
        "# Apply the same transformation to the test data\n",
        "X_test_scaled = scaler.transform(X_test)"
      ],
      "metadata": {
        "id": "eVVzrrw9bioz"
      },
      "execution_count": 33,
      "outputs": []
    },
    {
      "cell_type": "code",
      "source": [
        "from sklearn.linear_model import ElasticNet\n",
        "# Initialize and train the model on the scaled training data\n",
        "print(\"\\nElasticNET\")\n",
        "En_model = ElasticNet(alpha=0.1, l1_ratio=0.5)\n",
        "En_model.fit(X_train_scaled, y_train)\n",
        "y_train_pred =En_model.predict(X_train_scaled)\n",
        "y_test_pred =En_model.predict(X_test_scaled)\n",
        "# Calculate Mean Squared Error (MSE) for train and test sets\n",
        "train_mse = mean_squared_error(y_train, y_train_pred)\n",
        "test_mse = mean_squared_error(y_test, y_test_pred)\n",
        "print(\"\\nTrain MSE:\", train_mse)\n",
        "print(\"\\nTest MSE:\", test_mse)\n",
        "# Calculate R-squared for train and test sets\n",
        "train_r2 = r2_score(y_train, y_train_pred)\n",
        "test_r2 = r2_score(y_test, y_test_pred)\n",
        "print(\"\\nTrain R-squared:\", train_r2)\n",
        "print(\"\\nTest R-squared:\", test_r2)"
      ],
      "metadata": {
        "colab": {
          "base_uri": "https://localhost:8080/"
        },
        "id": "Vfl5NSlfbnJG",
        "outputId": "0bfa07f8-af30-4e9a-8829-a873f4101897"
      },
      "execution_count": 39,
      "outputs": [
        {
          "output_type": "stream",
          "name": "stdout",
          "text": [
            "\n",
            "ElasticNET\n",
            "\n",
            "Train MSE: 6698.074761438011\n",
            "\n",
            "Test MSE: 6646.800715425755\n",
            "\n",
            "Train R-squared: 0.2580014032601726\n",
            "\n",
            "Test R-squared: 0.2699864096131501\n"
          ]
        }
      ]
    },
    {
      "cell_type": "code",
      "source": [
        "'''# visualize distribution of review scores ratings\n",
        "plt.hist(data['review_scores_rating'][~data['review_scores_rating'].isnull()])\n",
        "plt.title(\"Histogram of Review Scores Ratings\")\n",
        "plt.xlabel(\"Review Score\")\n",
        "plt.ylabel(\"Frequency\")\n",
        "plt.show()'''"
      ],
      "metadata": {
        "id": "De1BQJnhCX_9",
        "colab": {
          "base_uri": "https://localhost:8080/",
          "height": 36
        },
        "outputId": "a1fc0e39-a29f-4e78-c5f1-8396e5f10565"
      },
      "execution_count": 24,
      "outputs": [
        {
          "output_type": "execute_result",
          "data": {
            "text/plain": [
              "'# visualize distribution of review scores ratings\\nplt.hist(data[\\'review_scores_rating\\'][~data[\\'review_scores_rating\\'].isnull()])\\nplt.title(\"Histogram of Review Scores Ratings\")\\nplt.xlabel(\"Review Score\")\\nplt.ylabel(\"Frequency\")\\nplt.show()'"
            ],
            "application/vnd.google.colaboratory.intrinsic+json": {
              "type": "string"
            }
          },
          "metadata": {},
          "execution_count": 24
        }
      ]
    },
    {
      "cell_type": "markdown",
      "source": [
        "**Here we can see that the most of the ratings are 4-5 and it is left skewed but we will handle it don't worry at all!**"
      ],
      "metadata": {
        "id": "6-Fo8-J4_nqH"
      }
    },
    {
      "cell_type": "code",
      "source": [
        "'''data['review_scores_rating'] = data['review_scores_rating'].astype(str)\n",
        "print(data[['review_scores_rating']].dtypes)'''"
      ],
      "metadata": {
        "colab": {
          "base_uri": "https://localhost:8080/",
          "height": 36
        },
        "id": "rQbxV7SaJJ8j",
        "outputId": "7077e1dd-bdcc-4e63-d7da-8fb6bcdce676"
      },
      "execution_count": 25,
      "outputs": [
        {
          "output_type": "execute_result",
          "data": {
            "text/plain": [
              "\"data['review_scores_rating'] = data['review_scores_rating'].astype(str)\\nprint(data[['review_scores_rating']].dtypes)\""
            ],
            "application/vnd.google.colaboratory.intrinsic+json": {
              "type": "string"
            }
          },
          "metadata": {},
          "execution_count": 25
        }
      ]
    },
    {
      "cell_type": "code",
      "source": [
        "'''# turn NaN scores with 0 reviews into 'No Reviews'\n",
        "# Convert the 'column_name' to boolean type\n",
        "data['review_scores_rating'] = data['review_scores_rating'].map(lambda x: 't' if x == 'True' else (False if x == 'False' else None))\n",
        "idx_vals = data['review_scores_rating'][data['number_of_reviews'] == 0].index.values.tolist()\n",
        "data.loc[idx_vals, ('review_scores_rating')] = data['review_scores_rating'][data['number_of_reviews'] == 0].replace('NaN', 'No Reviews')\n",
        "\n",
        "# remove inconsistent NaN values\n",
        "data = data[~data['review_scores_rating'].isnull()]'''"
      ],
      "metadata": {
        "id": "Nc9H2L3R5mRZ",
        "colab": {
          "base_uri": "https://localhost:8080/",
          "height": 70
        },
        "outputId": "9f3b7fa3-2a7f-41f8-d3fa-c9f64677de72"
      },
      "execution_count": 26,
      "outputs": [
        {
          "output_type": "execute_result",
          "data": {
            "text/plain": [
              "\"# turn NaN scores with 0 reviews into 'No Reviews'\\n# Convert the 'column_name' to boolean type\\ndata['review_scores_rating'] = data['review_scores_rating'].map(lambda x: 't' if x == 'True' else (False if x == 'False' else None))\\nidx_vals = data['review_scores_rating'][data['number_of_reviews'] == 0].index.values.tolist()\\ndata.loc[idx_vals, ('review_scores_rating')] = data['review_scores_rating'][data['number_of_reviews'] == 0].replace('NaN', 'No Reviews')\\n\\n# remove inconsistent NaN values\\ndata = data[~data['review_scores_rating'].isnull()]\""
            ],
            "application/vnd.google.colaboratory.intrinsic+json": {
              "type": "string"
            }
          },
          "metadata": {},
          "execution_count": 26
        }
      ]
    },
    {
      "cell_type": "code",
      "source": [
        "'''# convert review_scores_rating into buckets\n",
        "def convert_scores_buckets(val):\n",
        "    if val == 'No Reviews':\n",
        "        return 'No Reviews'\n",
        "    elif val >= 4 and val <=5:\n",
        "        return '4-5'\n",
        "    elif val >= 3 and val <4:\n",
        "        return '3-3.9'\n",
        "    elif val >= 2 and val < 3:\n",
        "        return '2-2.9'\n",
        "    elif val >= 1 and val < 2:\n",
        "        return '1-1.9'\n",
        "    elif val < 1:\n",
        "        return '0-0.9'\n",
        "\n",
        "data['review_scores_rating'] = data['review_scores_rating'].apply(convert_scores_buckets)\n",
        "print(data[['review_scores_rating']])\n",
        "print('Unique Values in the Column:', np.unique(data['review_scores_rating']))'''"
      ],
      "metadata": {
        "colab": {
          "base_uri": "https://localhost:8080/",
          "height": 70
        },
        "id": "XHaECr_SFhML",
        "outputId": "78402736-2268-4c6b-96a5-d8ad100c3a7a"
      },
      "execution_count": 27,
      "outputs": [
        {
          "output_type": "execute_result",
          "data": {
            "text/plain": [
              "\"# convert review_scores_rating into buckets\\ndef convert_scores_buckets(val):\\n    if val == 'No Reviews':\\n        return 'No Reviews'\\n    elif val >= 4 and val <=5:\\n        return '4-5'\\n    elif val >= 3 and val <4:\\n        return '3-3.9'\\n    elif val >= 2 and val < 3:\\n        return '2-2.9'\\n    elif val >= 1 and val < 2:\\n        return '1-1.9'\\n    elif val < 1:\\n        return '0-0.9'\\n\\ndata['review_scores_rating'] = data['review_scores_rating'].apply(convert_scores_buckets)\\nprint(data[['review_scores_rating']])\\nprint('Unique Values in the Column:', np.unique(data['review_scores_rating']))\""
            ],
            "application/vnd.google.colaboratory.intrinsic+json": {
              "type": "string"
            }
          },
          "metadata": {},
          "execution_count": 27
        }
      ]
    },
    {
      "cell_type": "code",
      "source": [
        "%%shell\n",
        "jupyter nbconvert --to html ///content/AirBnbFinalDemo.ipynb"
      ],
      "metadata": {
        "colab": {
          "base_uri": "https://localhost:8080/",
          "height": 1000
        },
        "id": "juQyABIsQHkC",
        "outputId": "ab539b98-e672-4b64-f025-fa39ed198c22"
      },
      "execution_count": 28,
      "outputs": [
        {
          "output_type": "stream",
          "name": "stdout",
          "text": [
            "[NbConvertApp] WARNING | pattern '///content/AirBnbFinalDemo.ipynb' matched no files\n",
            "This application is used to convert notebook files (*.ipynb)\n",
            "        to various other formats.\n",
            "\n",
            "        WARNING: THE COMMANDLINE INTERFACE MAY CHANGE IN FUTURE RELEASES.\n",
            "\n",
            "Options\n",
            "=======\n",
            "The options below are convenience aliases to configurable class-options,\n",
            "as listed in the \"Equivalent to\" description-line of the aliases.\n",
            "To see all configurable class-options for some <cmd>, use:\n",
            "    <cmd> --help-all\n",
            "\n",
            "--debug\n",
            "    set log level to logging.DEBUG (maximize logging output)\n",
            "    Equivalent to: [--Application.log_level=10]\n",
            "--show-config\n",
            "    Show the application's configuration (human-readable format)\n",
            "    Equivalent to: [--Application.show_config=True]\n",
            "--show-config-json\n",
            "    Show the application's configuration (json format)\n",
            "    Equivalent to: [--Application.show_config_json=True]\n",
            "--generate-config\n",
            "    generate default config file\n",
            "    Equivalent to: [--JupyterApp.generate_config=True]\n",
            "-y\n",
            "    Answer yes to any questions instead of prompting.\n",
            "    Equivalent to: [--JupyterApp.answer_yes=True]\n",
            "--execute\n",
            "    Execute the notebook prior to export.\n",
            "    Equivalent to: [--ExecutePreprocessor.enabled=True]\n",
            "--allow-errors\n",
            "    Continue notebook execution even if one of the cells throws an error and include the error message in the cell output (the default behaviour is to abort conversion). This flag is only relevant if '--execute' was specified, too.\n",
            "    Equivalent to: [--ExecutePreprocessor.allow_errors=True]\n",
            "--stdin\n",
            "    read a single notebook file from stdin. Write the resulting notebook with default basename 'notebook.*'\n",
            "    Equivalent to: [--NbConvertApp.from_stdin=True]\n",
            "--stdout\n",
            "    Write notebook output to stdout instead of files.\n",
            "    Equivalent to: [--NbConvertApp.writer_class=StdoutWriter]\n",
            "--inplace\n",
            "    Run nbconvert in place, overwriting the existing notebook (only\n",
            "            relevant when converting to notebook format)\n",
            "    Equivalent to: [--NbConvertApp.use_output_suffix=False --NbConvertApp.export_format=notebook --FilesWriter.build_directory=]\n",
            "--clear-output\n",
            "    Clear output of current file and save in place,\n",
            "            overwriting the existing notebook.\n",
            "    Equivalent to: [--NbConvertApp.use_output_suffix=False --NbConvertApp.export_format=notebook --FilesWriter.build_directory= --ClearOutputPreprocessor.enabled=True]\n",
            "--no-prompt\n",
            "    Exclude input and output prompts from converted document.\n",
            "    Equivalent to: [--TemplateExporter.exclude_input_prompt=True --TemplateExporter.exclude_output_prompt=True]\n",
            "--no-input\n",
            "    Exclude input cells and output prompts from converted document.\n",
            "            This mode is ideal for generating code-free reports.\n",
            "    Equivalent to: [--TemplateExporter.exclude_output_prompt=True --TemplateExporter.exclude_input=True --TemplateExporter.exclude_input_prompt=True]\n",
            "--allow-chromium-download\n",
            "    Whether to allow downloading chromium if no suitable version is found on the system.\n",
            "    Equivalent to: [--WebPDFExporter.allow_chromium_download=True]\n",
            "--disable-chromium-sandbox\n",
            "    Disable chromium security sandbox when converting to PDF..\n",
            "    Equivalent to: [--WebPDFExporter.disable_sandbox=True]\n",
            "--show-input\n",
            "    Shows code input. This flag is only useful for dejavu users.\n",
            "    Equivalent to: [--TemplateExporter.exclude_input=False]\n",
            "--embed-images\n",
            "    Embed the images as base64 dataurls in the output. This flag is only useful for the HTML/WebPDF/Slides exports.\n",
            "    Equivalent to: [--HTMLExporter.embed_images=True]\n",
            "--sanitize-html\n",
            "    Whether the HTML in Markdown cells and cell outputs should be sanitized..\n",
            "    Equivalent to: [--HTMLExporter.sanitize_html=True]\n",
            "--log-level=<Enum>\n",
            "    Set the log level by value or name.\n",
            "    Choices: any of [0, 10, 20, 30, 40, 50, 'DEBUG', 'INFO', 'WARN', 'ERROR', 'CRITICAL']\n",
            "    Default: 30\n",
            "    Equivalent to: [--Application.log_level]\n",
            "--config=<Unicode>\n",
            "    Full path of a config file.\n",
            "    Default: ''\n",
            "    Equivalent to: [--JupyterApp.config_file]\n",
            "--to=<Unicode>\n",
            "    The export format to be used, either one of the built-in formats\n",
            "            ['asciidoc', 'custom', 'html', 'latex', 'markdown', 'notebook', 'pdf', 'python', 'rst', 'script', 'slides', 'webpdf']\n",
            "            or a dotted object name that represents the import path for an\n",
            "            ``Exporter`` class\n",
            "    Default: ''\n",
            "    Equivalent to: [--NbConvertApp.export_format]\n",
            "--template=<Unicode>\n",
            "    Name of the template to use\n",
            "    Default: ''\n",
            "    Equivalent to: [--TemplateExporter.template_name]\n",
            "--template-file=<Unicode>\n",
            "    Name of the template file to use\n",
            "    Default: None\n",
            "    Equivalent to: [--TemplateExporter.template_file]\n",
            "--theme=<Unicode>\n",
            "    Template specific theme(e.g. the name of a JupyterLab CSS theme distributed\n",
            "    as prebuilt extension for the lab template)\n",
            "    Default: 'light'\n",
            "    Equivalent to: [--HTMLExporter.theme]\n",
            "--sanitize_html=<Bool>\n",
            "    Whether the HTML in Markdown cells and cell outputs should be sanitized.This\n",
            "    should be set to True by nbviewer or similar tools.\n",
            "    Default: False\n",
            "    Equivalent to: [--HTMLExporter.sanitize_html]\n",
            "--writer=<DottedObjectName>\n",
            "    Writer class used to write the\n",
            "                                        results of the conversion\n",
            "    Default: 'FilesWriter'\n",
            "    Equivalent to: [--NbConvertApp.writer_class]\n",
            "--post=<DottedOrNone>\n",
            "    PostProcessor class used to write the\n",
            "                                        results of the conversion\n",
            "    Default: ''\n",
            "    Equivalent to: [--NbConvertApp.postprocessor_class]\n",
            "--output=<Unicode>\n",
            "    overwrite base name use for output files.\n",
            "                can only be used when converting one notebook at a time.\n",
            "    Default: ''\n",
            "    Equivalent to: [--NbConvertApp.output_base]\n",
            "--output-dir=<Unicode>\n",
            "    Directory to write output(s) to. Defaults\n",
            "                                  to output to the directory of each notebook. To recover\n",
            "                                  previous default behaviour (outputting to the current\n",
            "                                  working directory) use . as the flag value.\n",
            "    Default: ''\n",
            "    Equivalent to: [--FilesWriter.build_directory]\n",
            "--reveal-prefix=<Unicode>\n",
            "    The URL prefix for reveal.js (version 3.x).\n",
            "            This defaults to the reveal CDN, but can be any url pointing to a copy\n",
            "            of reveal.js.\n",
            "            For speaker notes to work, this must be a relative path to a local\n",
            "            copy of reveal.js: e.g., \"reveal.js\".\n",
            "            If a relative path is given, it must be a subdirectory of the\n",
            "            current directory (from which the server is run).\n",
            "            See the usage documentation\n",
            "            (https://nbconvert.readthedocs.io/en/latest/usage.html#reveal-js-html-slideshow)\n",
            "            for more details.\n",
            "    Default: ''\n",
            "    Equivalent to: [--SlidesExporter.reveal_url_prefix]\n",
            "--nbformat=<Enum>\n",
            "    The nbformat version to write.\n",
            "            Use this to downgrade notebooks.\n",
            "    Choices: any of [1, 2, 3, 4]\n",
            "    Default: 4\n",
            "    Equivalent to: [--NotebookExporter.nbformat_version]\n",
            "\n",
            "Examples\n",
            "--------\n",
            "\n",
            "    The simplest way to use nbconvert is\n",
            "\n",
            "            > jupyter nbconvert mynotebook.ipynb --to html\n",
            "\n",
            "            Options include ['asciidoc', 'custom', 'html', 'latex', 'markdown', 'notebook', 'pdf', 'python', 'rst', 'script', 'slides', 'webpdf'].\n",
            "\n",
            "            > jupyter nbconvert --to latex mynotebook.ipynb\n",
            "\n",
            "            Both HTML and LaTeX support multiple output templates. LaTeX includes\n",
            "            'base', 'article' and 'report'.  HTML includes 'basic', 'lab' and\n",
            "            'classic'. You can specify the flavor of the format used.\n",
            "\n",
            "            > jupyter nbconvert --to html --template lab mynotebook.ipynb\n",
            "\n",
            "            You can also pipe the output to stdout, rather than a file\n",
            "\n",
            "            > jupyter nbconvert mynotebook.ipynb --stdout\n",
            "\n",
            "            PDF is generated via latex\n",
            "\n",
            "            > jupyter nbconvert mynotebook.ipynb --to pdf\n",
            "\n",
            "            You can get (and serve) a Reveal.js-powered slideshow\n",
            "\n",
            "            > jupyter nbconvert myslides.ipynb --to slides --post serve\n",
            "\n",
            "            Multiple notebooks can be given at the command line in a couple of\n",
            "            different ways:\n",
            "\n",
            "            > jupyter nbconvert notebook*.ipynb\n",
            "            > jupyter nbconvert notebook1.ipynb notebook2.ipynb\n",
            "\n",
            "            or you can specify the notebooks list in a config file, containing::\n",
            "\n",
            "                c.NbConvertApp.notebooks = [\"my_notebook.ipynb\"]\n",
            "\n",
            "            > jupyter nbconvert --config mycfg.py\n",
            "\n",
            "To see all available configurables, use `--help-all`.\n",
            "\n"
          ]
        },
        {
          "output_type": "error",
          "ename": "CalledProcessError",
          "evalue": "ignored",
          "traceback": [
            "\u001b[0;31m---------------------------------------------------------------------------\u001b[0m",
            "\u001b[0;31mCalledProcessError\u001b[0m                        Traceback (most recent call last)",
            "\u001b[0;32m<ipython-input-28-345a33b760e6>\u001b[0m in \u001b[0;36m<cell line: 1>\u001b[0;34m()\u001b[0m\n\u001b[0;32m----> 1\u001b[0;31m \u001b[0mget_ipython\u001b[0m\u001b[0;34m(\u001b[0m\u001b[0;34m)\u001b[0m\u001b[0;34m.\u001b[0m\u001b[0mrun_cell_magic\u001b[0m\u001b[0;34m(\u001b[0m\u001b[0;34m'shell'\u001b[0m\u001b[0;34m,\u001b[0m \u001b[0;34m''\u001b[0m\u001b[0;34m,\u001b[0m \u001b[0;34m'jupyter nbconvert --to html ///content/AirBnbFinalDemo.ipynb\\n'\u001b[0m\u001b[0;34m)\u001b[0m\u001b[0;34m\u001b[0m\u001b[0;34m\u001b[0m\u001b[0m\n\u001b[0m",
            "\u001b[0;32m/usr/local/lib/python3.10/dist-packages/google/colab/_shell.py\u001b[0m in \u001b[0;36mrun_cell_magic\u001b[0;34m(self, magic_name, line, cell)\u001b[0m\n\u001b[1;32m    332\u001b[0m     \u001b[0;32mif\u001b[0m \u001b[0mline\u001b[0m \u001b[0;32mand\u001b[0m \u001b[0;32mnot\u001b[0m \u001b[0mcell\u001b[0m\u001b[0;34m:\u001b[0m\u001b[0;34m\u001b[0m\u001b[0;34m\u001b[0m\u001b[0m\n\u001b[1;32m    333\u001b[0m       \u001b[0mcell\u001b[0m \u001b[0;34m=\u001b[0m \u001b[0;34m' '\u001b[0m\u001b[0;34m\u001b[0m\u001b[0;34m\u001b[0m\u001b[0m\n\u001b[0;32m--> 334\u001b[0;31m     \u001b[0;32mreturn\u001b[0m \u001b[0msuper\u001b[0m\u001b[0;34m(\u001b[0m\u001b[0;34m)\u001b[0m\u001b[0;34m.\u001b[0m\u001b[0mrun_cell_magic\u001b[0m\u001b[0;34m(\u001b[0m\u001b[0mmagic_name\u001b[0m\u001b[0;34m,\u001b[0m \u001b[0mline\u001b[0m\u001b[0;34m,\u001b[0m \u001b[0mcell\u001b[0m\u001b[0;34m)\u001b[0m\u001b[0;34m\u001b[0m\u001b[0;34m\u001b[0m\u001b[0m\n\u001b[0m\u001b[1;32m    335\u001b[0m \u001b[0;34m\u001b[0m\u001b[0m\n\u001b[1;32m    336\u001b[0m \u001b[0;34m\u001b[0m\u001b[0m\n",
            "\u001b[0;32m/usr/local/lib/python3.10/dist-packages/IPython/core/interactiveshell.py\u001b[0m in \u001b[0;36mrun_cell_magic\u001b[0;34m(self, magic_name, line, cell)\u001b[0m\n\u001b[1;32m   2471\u001b[0m             \u001b[0;32mwith\u001b[0m \u001b[0mself\u001b[0m\u001b[0;34m.\u001b[0m\u001b[0mbuiltin_trap\u001b[0m\u001b[0;34m:\u001b[0m\u001b[0;34m\u001b[0m\u001b[0;34m\u001b[0m\u001b[0m\n\u001b[1;32m   2472\u001b[0m                 \u001b[0margs\u001b[0m \u001b[0;34m=\u001b[0m \u001b[0;34m(\u001b[0m\u001b[0mmagic_arg_s\u001b[0m\u001b[0;34m,\u001b[0m \u001b[0mcell\u001b[0m\u001b[0;34m)\u001b[0m\u001b[0;34m\u001b[0m\u001b[0;34m\u001b[0m\u001b[0m\n\u001b[0;32m-> 2473\u001b[0;31m                 \u001b[0mresult\u001b[0m \u001b[0;34m=\u001b[0m \u001b[0mfn\u001b[0m\u001b[0;34m(\u001b[0m\u001b[0;34m*\u001b[0m\u001b[0margs\u001b[0m\u001b[0;34m,\u001b[0m \u001b[0;34m**\u001b[0m\u001b[0mkwargs\u001b[0m\u001b[0;34m)\u001b[0m\u001b[0;34m\u001b[0m\u001b[0;34m\u001b[0m\u001b[0m\n\u001b[0m\u001b[1;32m   2474\u001b[0m             \u001b[0;32mreturn\u001b[0m \u001b[0mresult\u001b[0m\u001b[0;34m\u001b[0m\u001b[0;34m\u001b[0m\u001b[0m\n\u001b[1;32m   2475\u001b[0m \u001b[0;34m\u001b[0m\u001b[0m\n",
            "\u001b[0;32m/usr/local/lib/python3.10/dist-packages/google/colab/_system_commands.py\u001b[0m in \u001b[0;36m_shell_cell_magic\u001b[0;34m(args, cmd)\u001b[0m\n\u001b[1;32m    110\u001b[0m   \u001b[0mresult\u001b[0m \u001b[0;34m=\u001b[0m \u001b[0m_run_command\u001b[0m\u001b[0;34m(\u001b[0m\u001b[0mcmd\u001b[0m\u001b[0;34m,\u001b[0m \u001b[0mclear_streamed_output\u001b[0m\u001b[0;34m=\u001b[0m\u001b[0;32mFalse\u001b[0m\u001b[0;34m)\u001b[0m\u001b[0;34m\u001b[0m\u001b[0;34m\u001b[0m\u001b[0m\n\u001b[1;32m    111\u001b[0m   \u001b[0;32mif\u001b[0m \u001b[0;32mnot\u001b[0m \u001b[0mparsed_args\u001b[0m\u001b[0;34m.\u001b[0m\u001b[0mignore_errors\u001b[0m\u001b[0;34m:\u001b[0m\u001b[0;34m\u001b[0m\u001b[0;34m\u001b[0m\u001b[0m\n\u001b[0;32m--> 112\u001b[0;31m     \u001b[0mresult\u001b[0m\u001b[0;34m.\u001b[0m\u001b[0mcheck_returncode\u001b[0m\u001b[0;34m(\u001b[0m\u001b[0;34m)\u001b[0m\u001b[0;34m\u001b[0m\u001b[0;34m\u001b[0m\u001b[0m\n\u001b[0m\u001b[1;32m    113\u001b[0m   \u001b[0;32mreturn\u001b[0m \u001b[0mresult\u001b[0m\u001b[0;34m\u001b[0m\u001b[0;34m\u001b[0m\u001b[0m\n\u001b[1;32m    114\u001b[0m \u001b[0;34m\u001b[0m\u001b[0m\n",
            "\u001b[0;32m/usr/local/lib/python3.10/dist-packages/google/colab/_system_commands.py\u001b[0m in \u001b[0;36mcheck_returncode\u001b[0;34m(self)\u001b[0m\n\u001b[1;32m    135\u001b[0m   \u001b[0;32mdef\u001b[0m \u001b[0mcheck_returncode\u001b[0m\u001b[0;34m(\u001b[0m\u001b[0mself\u001b[0m\u001b[0;34m)\u001b[0m\u001b[0;34m:\u001b[0m\u001b[0;34m\u001b[0m\u001b[0;34m\u001b[0m\u001b[0m\n\u001b[1;32m    136\u001b[0m     \u001b[0;32mif\u001b[0m \u001b[0mself\u001b[0m\u001b[0;34m.\u001b[0m\u001b[0mreturncode\u001b[0m\u001b[0;34m:\u001b[0m\u001b[0;34m\u001b[0m\u001b[0;34m\u001b[0m\u001b[0m\n\u001b[0;32m--> 137\u001b[0;31m       raise subprocess.CalledProcessError(\n\u001b[0m\u001b[1;32m    138\u001b[0m           \u001b[0mreturncode\u001b[0m\u001b[0;34m=\u001b[0m\u001b[0mself\u001b[0m\u001b[0;34m.\u001b[0m\u001b[0mreturncode\u001b[0m\u001b[0;34m,\u001b[0m \u001b[0mcmd\u001b[0m\u001b[0;34m=\u001b[0m\u001b[0mself\u001b[0m\u001b[0;34m.\u001b[0m\u001b[0margs\u001b[0m\u001b[0;34m,\u001b[0m \u001b[0moutput\u001b[0m\u001b[0;34m=\u001b[0m\u001b[0mself\u001b[0m\u001b[0;34m.\u001b[0m\u001b[0moutput\u001b[0m\u001b[0;34m\u001b[0m\u001b[0;34m\u001b[0m\u001b[0m\n\u001b[1;32m    139\u001b[0m       )\n",
            "\u001b[0;31mCalledProcessError\u001b[0m: Command 'jupyter nbconvert --to html ///content/AirBnbFinalDemo.ipynb\n' returned non-zero exit status 255."
          ]
        }
      ]
    }
  ]
}